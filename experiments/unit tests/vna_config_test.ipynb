{
 "cells": [
  {
   "cell_type": "code",
   "execution_count": 1,
   "metadata": {},
   "outputs": [],
   "source": [
    "import sys\n",
    "sys.path.append('../configs/')  # Adjust the path according to your directory structure\n",
    "\n",
    "from vna_config import VnaLinConfig, VnaSegmConfig, VnaSegm"
   ]
  },
  {
   "cell_type": "code",
   "execution_count": 2,
   "metadata": {},
   "outputs": [
    {
     "data": {
      "text/plain": [
       "'Power: -10 dBmCenter Frequency: 1000000000.0 Hz, Span: 500000000.0 Hz, Start Frequency: 750000000.0 HzStop Frequency: 1250000000.0 HzBandwidth: 1000 Hz, Number of Points: 1024, Number of Averages: 5'"
      ]
     },
     "execution_count": 2,
     "metadata": {},
     "output_type": "execute_result"
    }
   ],
   "source": [
    "config = VnaLinConfig(center_frequency=1e9, span=500e6, power=-10, bandwidth=1000, num_points=1024, num_averages=5)\n",
    "\n",
    "str(config)"
   ]
  },
  {
   "cell_type": "code",
   "execution_count": 5,
   "metadata": {},
   "outputs": [],
   "source": [
    "segm = VnaSegm(index=1, start_frequency=1e9, stop_frequency=2e9)\n",
    "another_segm = VnaSegm(index=2, start_frequency=2e9, stop_frequency=3e9)\n",
    "\n",
    "config = VnaSegmConfig(segments=[segm, another_segm], num_segments=2)"
   ]
  },
  {
   "cell_type": "code",
   "execution_count": null,
   "metadata": {},
   "outputs": [],
   "source": []
  }
 ],
 "metadata": {
  "kernelspec": {
   "display_name": "alex",
   "language": "python",
   "name": "python3"
  },
  "language_info": {
   "codemirror_mode": {
    "name": "ipython",
    "version": 3
   },
   "file_extension": ".py",
   "mimetype": "text/x-python",
   "name": "python",
   "nbconvert_exporter": "python",
   "pygments_lexer": "ipython3",
   "version": "3.12.0"
  }
 },
 "nbformat": 4,
 "nbformat_minor": 2
}
